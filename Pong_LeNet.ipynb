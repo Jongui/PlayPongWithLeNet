{
  "cells": [
    {
      "cell_type": "markdown",
      "metadata": {
        "id": "view-in-github",
        "colab_type": "text"
      },
      "source": [
        "<a href=\"https://colab.research.google.com/github/Jongui/PlayPongWithLeNet/blob/main/Pong_LeNet.ipynb\" target=\"_parent\"><img src=\"https://colab.research.google.com/assets/colab-badge.svg\" alt=\"Open In Colab\"/></a>"
      ]
    },
    {
      "cell_type": "code",
      "execution_count": null,
      "id": "ewQZn5NJEYdU",
      "metadata": {
        "colab": {
          "base_uri": "https://localhost:8080/"
        },
        "id": "ewQZn5NJEYdU",
        "outputId": "a0713f24-d271-441d-e8d8-df57ebdcc21b"
      },
      "outputs": [
        {
          "output_type": "stream",
          "name": "stdout",
          "text": [
            "Collecting gymnasium\n",
            "  Downloading gymnasium-1.0.0-py3-none-any.whl.metadata (9.5 kB)\n",
            "Requirement already satisfied: numpy>=1.21.0 in /usr/local/lib/python3.11/dist-packages (from gymnasium) (1.26.4)\n",
            "Requirement already satisfied: cloudpickle>=1.2.0 in /usr/local/lib/python3.11/dist-packages (from gymnasium) (3.1.1)\n",
            "Requirement already satisfied: typing-extensions>=4.3.0 in /usr/local/lib/python3.11/dist-packages (from gymnasium) (4.12.2)\n",
            "Collecting farama-notifications>=0.0.1 (from gymnasium)\n",
            "  Downloading Farama_Notifications-0.0.4-py3-none-any.whl.metadata (558 bytes)\n",
            "Downloading gymnasium-1.0.0-py3-none-any.whl (958 kB)\n",
            "\u001b[2K   \u001b[90m━━━━━━━━━━━━━━━━━━━━━━━━━━━━━━━━━━━━━━━━\u001b[0m \u001b[32m958.1/958.1 kB\u001b[0m \u001b[31m10.3 MB/s\u001b[0m eta \u001b[36m0:00:00\u001b[0m\n",
            "\u001b[?25hDownloading Farama_Notifications-0.0.4-py3-none-any.whl (2.5 kB)\n",
            "Installing collected packages: farama-notifications, gymnasium\n",
            "Successfully installed farama-notifications-0.0.4 gymnasium-1.0.0\n",
            "Requirement already satisfied: gymnasium[atari] in /usr/local/lib/python3.11/dist-packages (1.0.0)\n",
            "Requirement already satisfied: numpy>=1.21.0 in /usr/local/lib/python3.11/dist-packages (from gymnasium[atari]) (1.26.4)\n",
            "Requirement already satisfied: cloudpickle>=1.2.0 in /usr/local/lib/python3.11/dist-packages (from gymnasium[atari]) (3.1.1)\n",
            "Requirement already satisfied: typing-extensions>=4.3.0 in /usr/local/lib/python3.11/dist-packages (from gymnasium[atari]) (4.12.2)\n",
            "Requirement already satisfied: farama-notifications>=0.0.1 in /usr/local/lib/python3.11/dist-packages (from gymnasium[atari]) (0.0.4)\n",
            "Collecting ale-py>=0.9 (from gymnasium[atari])\n",
            "  Downloading ale_py-0.10.1-cp311-cp311-manylinux_2_17_x86_64.manylinux2014_x86_64.whl.metadata (7.6 kB)\n",
            "Downloading ale_py-0.10.1-cp311-cp311-manylinux_2_17_x86_64.manylinux2014_x86_64.whl (2.1 MB)\n",
            "\u001b[2K   \u001b[90m━━━━━━━━━━━━━━━━━━━━━━━━━━━━━━━━━━━━━━━━\u001b[0m \u001b[32m2.1/2.1 MB\u001b[0m \u001b[31m21.1 MB/s\u001b[0m eta \u001b[36m0:00:00\u001b[0m\n",
            "\u001b[?25hInstalling collected packages: ale-py\n",
            "Successfully installed ale-py-0.10.1\n"
          ]
        }
      ],
      "source": [
        "!pip install gymnasium\n",
        "!pip install gymnasium[atari]"
      ]
    },
    {
      "cell_type": "markdown",
      "id": "b0cea90d",
      "metadata": {
        "id": "b0cea90d"
      },
      "source": [
        "# Experiments using Pong\n",
        "\n",
        "## Import\n",
        "Import libraries and create environment."
      ]
    },
    {
      "cell_type": "code",
      "execution_count": null,
      "id": "NIuwabvmuz3M",
      "metadata": {
        "colab": {
          "base_uri": "https://localhost:8080/"
        },
        "id": "NIuwabvmuz3M",
        "outputId": "6ae5259d-5b3b-4e74-d16f-7f2fe2845f66"
      },
      "outputs": [
        {
          "output_type": "stream",
          "name": "stdout",
          "text": [
            "Mounted at /content/drive\n"
          ]
        }
      ],
      "source": [
        "from google.colab import drive\n",
        "drive.mount('/content/drive')"
      ]
    },
    {
      "cell_type": "code",
      "execution_count": null,
      "id": "6cc91811",
      "metadata": {
        "id": "6cc91811"
      },
      "outputs": [],
      "source": [
        "import numpy as np\n",
        "import gymnasium as gym\n",
        "from gymnasium.wrappers import AtariPreprocessing, FrameStackObservation\n",
        "import random\n",
        "from IPython.display import clear_output\n",
        "import ale_py\n",
        "import matplotlib.pyplot as plt\n",
        "\n",
        "env = gym.make('ALE/Pong-v5', frameskip=1, render_mode = 'rgb_array')\n",
        "\n",
        "# Environment preprocessing\n",
        "env = AtariPreprocessing(env)\n",
        "# Stack four frames\n",
        "env = FrameStackObservation(env, 4)"
      ]
    },
    {
      "cell_type": "markdown",
      "id": "02635530",
      "metadata": {
        "id": "02635530"
      },
      "source": [
        "## Render environment\n",
        "Set first space and check its information"
      ]
    },
    {
      "cell_type": "code",
      "execution_count": null,
      "id": "a521d9cb",
      "metadata": {
        "colab": {
          "base_uri": "https://localhost:8080/"
        },
        "id": "a521d9cb",
        "outputId": "329190ec-2348-4a23-c31e-ca6b255bf5b7"
      },
      "outputs": [
        {
          "output_type": "stream",
          "name": "stdout",
          "text": [
            "Action Space Discrete(6)\n",
            "Observation Space Box(0, 255, (4, 84, 84), uint8)\n"
          ]
        }
      ],
      "source": [
        "env.reset() # reset environment to a new, random state\n",
        "env.render()\n",
        "\n",
        "print(\"Action Space {}\".format(env.action_space))\n",
        "print(\"Observation Space {}\".format(env.observation_space))"
      ]
    },
    {
      "cell_type": "markdown",
      "id": "429089fb",
      "metadata": {
        "id": "429089fb"
      },
      "source": [
        "## Classes for agents\n",
        "Create an abstract class with prototype for agents implementation."
      ]
    },
    {
      "cell_type": "code",
      "execution_count": null,
      "id": "b5e008bf",
      "metadata": {
        "id": "b5e008bf"
      },
      "outputs": [],
      "source": [
        "class AbstractAgent:\n",
        "    def __init__(self, env):\n",
        "        self.env = env\n",
        "        self.actions = []\n",
        "\n",
        "    def take_step(self, current_state):\n",
        "        print(\"Take step\")"
      ]
    },
    {
      "cell_type": "markdown",
      "id": "a046ae4a",
      "metadata": {
        "id": "a046ae4a"
      },
      "source": [
        "## Game class\n",
        "Helper class that \"plays\" the game."
      ]
    },
    {
      "cell_type": "code",
      "execution_count": null,
      "id": "b5c49757",
      "metadata": {
        "id": "b5c49757"
      },
      "outputs": [],
      "source": [
        "done_array = []\n",
        "class GamePlay:\n",
        "    def __init__(self, env, total_epochs, episode_batch_size):\n",
        "        self.total_epochs = total_epochs\n",
        "        self.env = env\n",
        "        self.episode_batch_size = episode_batch_size\n",
        "        self.cpu_scores, self.agent_scores = [],[]\n",
        "        self.rounds = []\n",
        "\n",
        "    def plot_results(self):\n",
        "        # plot lines\n",
        "        plt.plot(self.rounds, self.agent_scores, label = \"Agent Scores\")\n",
        "        # plt.plot(self.rounds, self.cpu_scores, label = \"CPU Scores\")\n",
        "        plt.legend()\n",
        "        plt.show()\n",
        "\n",
        "    def print_current_score(self,agent_score, cpu_score, episode, agent_total_score, cpu_total_score):\n",
        "        clear_output(wait=True)\n",
        "        print(f\"Episode: {episode}\")\n",
        "        print(f\"Agent {agent_score} x {cpu_score} CPU\")\n",
        "        if episode % self.episode_batch_size == 0:\n",
        "            print(f\"Agent {agent_total_score} x {cpu_total_score} CPU\")\n",
        "\n",
        "    def game_play(self,agent):\n",
        "\n",
        "        self.cpu_scores, self.agent_scores = [],[]\n",
        "        self.rounds = []\n",
        "        games_played, cpu_wins, agent_wins, agent_total_score, cpu_total_score = 0, 0, 0, 0, 0\n",
        "        agent_10_score, cpu_10_score = 0, 0\n",
        "        epochs = 0\n",
        "        for i in range(0, self.total_epochs):\n",
        "            current_state = self.env.reset()[0]\n",
        "            done = False\n",
        "            cpu_score, agent_score = 0, 0\n",
        "            while not done:\n",
        "                next_state, reward, done, info, info2 = agent.take_step(current_state)\n",
        "                current_state = next_state\n",
        "                done_array.append(done)\n",
        "                if reward < 0:\n",
        "                    reward = reward * -1\n",
        "                    cpu_score = cpu_score + reward\n",
        "                else:\n",
        "                    agent_score = agent_score + reward\n",
        "\n",
        "                self.print_current_score(agent_score, cpu_score, i, agent_total_score, cpu_total_score)\n",
        "                if done == True:\n",
        "                    print(\"Game finished\")\n",
        "                    games_played = games_played + 1\n",
        "                    agent_total_score = agent_total_score + agent_score\n",
        "                    cpu_total_score = cpu_total_score + cpu_score\n",
        "                    if cpu_score == 21:\n",
        "                        cpu_wins = cpu_wins + 1\n",
        "                    else:\n",
        "                        agent_wins = agent_wins + 1\n",
        "\n",
        "                    agent_10_score = agent_10_score + agent_score\n",
        "                    cpu_10_score = cpu_10_score + cpu_score\n",
        "                    self.agent_scores.append(agent_score)\n",
        "                    #if games_played % self.episode_batch_size == 0:\n",
        "                    #    self.cpu_scores.append(agent_10_score)\n",
        "                    #    self.agent_scores.append(agent_10_score)\n",
        "                    #    self.rounds.append(games_played)\n",
        "                    #    agent_10_score, cpu_10_score = 0, 0\n",
        "\n",
        "            epochs += 1\n",
        "        clear_output(wait=True)\n",
        "        print(f\"Epochs: {epochs}\")\n",
        "        print(f\"Agent Wins: {agent_wins}\")\n",
        "        print(f\"CPU Wins: {cpu_wins}\")\n",
        "        print(f\"Agent Total Score: {agent_total_score}\")\n",
        "        print(f\"CPU Total Score: {cpu_total_score}\")\n",
        "        # self.plot_results()\n",
        "        return self.agent_scores, self.rounds\n",
        "\n",
        "game_play = GamePlay(env=env,total_epochs=1000,episode_batch_size=20)"
      ]
    },
    {
      "cell_type": "markdown",
      "id": "a0e4fded",
      "metadata": {
        "id": "a0e4fded"
      },
      "source": [
        "## Random Agent\n",
        "An agent that randomly chose one of the env actions."
      ]
    },
    {
      "cell_type": "code",
      "execution_count": null,
      "id": "4006cb10",
      "metadata": {
        "id": "4006cb10"
      },
      "outputs": [],
      "source": [
        "class RandomAgent(AbstractAgent):\n",
        "    def __init__(self, env):\n",
        "        self.env = env\n",
        "        self.actions = env.action_space\n",
        "    def take_step(self,current_state):\n",
        "        next_state, reward, done, info, info2 = self.env.step(self.actions.sample())\n",
        "        return next_state, reward, done, info, info2\n"
      ]
    },
    {
      "cell_type": "markdown",
      "id": "5804faa5",
      "metadata": {
        "id": "5804faa5"
      },
      "source": [
        "## Random agent call\n",
        "Random agent called to play. But here only 100 games (episodes) were played, since the intention is to achieve an average of points per game done by a random agent. This average is used as parameter to check if the LeNet Agent outperform a random agent."
      ]
    },
    {
      "cell_type": "code",
      "execution_count": null,
      "id": "3eb89004",
      "metadata": {
        "colab": {
          "base_uri": "https://localhost:8080/"
        },
        "id": "3eb89004",
        "outputId": "2036a102-ef9d-4950-e5c1-df7915a90a28"
      },
      "outputs": [
        {
          "output_type": "stream",
          "name": "stdout",
          "text": [
            "Epochs: 10\n",
            "Agent Wins: 0\n",
            "CPU Wins: 10\n",
            "Agent Total Score: 6.0\n",
            "CPU Total Score: 210.0\n",
            "CPU times: user 39 s, sys: 4.67 s, total: 43.7 s\n",
            "Wall time: 40 s\n"
          ]
        }
      ],
      "source": [
        "%%time\n",
        "\n",
        "random_agent = RandomAgent(env)\n",
        "game_play.total_epochs = 10\n",
        "random_score, rounds = game_play.game_play(random_agent)"
      ]
    },
    {
      "cell_type": "code",
      "execution_count": null,
      "id": "cf0a2211",
      "metadata": {
        "id": "cf0a2211"
      },
      "outputs": [],
      "source": [
        "import os\n",
        "\n",
        "os.environ[\"KERAS_BACKEND\"] = \"tensorflow\"\n",
        "\n",
        "import keras\n",
        "from keras import layers\n",
        "import tensorflow as tf"
      ]
    },
    {
      "cell_type": "markdown",
      "id": "QtKEcuuW9-MN",
      "metadata": {
        "id": "QtKEcuuW9-MN"
      },
      "source": [
        "# LeNet Agent\n",
        "The LeNet-300-100 architecture was implemented as Deep Learning logic. For this, TensorFlow and Keras libraries were used. With this, the logic implementation was faster."
      ]
    },
    {
      "cell_type": "code",
      "execution_count": null,
      "id": "6a4045d8",
      "metadata": {
        "id": "6a4045d8"
      },
      "outputs": [],
      "source": [
        "class LeNetAgent(AbstractAgent):\n",
        "    def __init__(self, env):\n",
        "        self.env = env\n",
        "        self.num_actions = 2\n",
        "        self.model = self._create_q_model()\n",
        "        self.model_target = self._create_q_model()\n",
        "\n",
        "        # In the Deepmind paper they use RMSProp however then Adam optimizer\n",
        "        # improves training time\n",
        "        self.optimizer = keras.optimizers.Adam(learning_rate=0.00025, clipnorm=1.0)\n",
        "\n",
        "        self.gamma = 0.99  # Discount factor for past rewards\n",
        "        self.epsilon = 1.0  # Epsilon greedy parameter\n",
        "        self.epsilon_min = 0.1  # Minimum epsilon greedy parameter\n",
        "        self.epsilon_max = 1.0  # Maximum epsilon greedy parameter\n",
        "        self.epsilon_interval = (\n",
        "          self.epsilon_max - self.epsilon_min\n",
        "        )  # Rate at which to reduce chance of random action being taken\n",
        "        self.batch_size = 32  # Size of batch taken from replay buffer\n",
        "        self.max_steps_per_episode = 10000\n",
        "        self.max_episodes = 200  # Limit training episodes, will run until solved if smaller than 1\n",
        "\n",
        "        self.actions_space =[2, 5]\n",
        "\n",
        "        # Experience replay buffers\n",
        "        self.action_history = []\n",
        "        self.state_history = []\n",
        "        self.state_next_history = []\n",
        "        self.rewards_history = []\n",
        "        self.done_history = []\n",
        "        self.episode_reward_history = []\n",
        "        self.running_reward = 0\n",
        "        self.episode_count = 0\n",
        "        # Number of frames to take random action and observe output\n",
        "        self.epsilon_random_frames = 50000\n",
        "        # Number of frames for exploration\n",
        "        self.epsilon_greedy_frames = 1000000.0\n",
        "        # Maximum replay length\n",
        "        # Note: The Deepmind paper suggests 1000000 however this causes memory issues\n",
        "        self.max_memory_length = 100000\n",
        "        # Train the model after 4 actions\n",
        "        self.update_after_actions = 16\n",
        "        # How often to update the target network\n",
        "        self.update_target_network = 10000\n",
        "        # Using huber loss for stability\n",
        "        self.loss_function = keras.losses.Huber()\n",
        "        self.state = None\n",
        "        # Count Q-Values and Random actions\n",
        "        self.q_action_taken, self.random_actions_taken = [], []\n",
        "        self.frame_count = 0\n",
        "        self.done_count = 0\n",
        "\n",
        "    def take_step(self,current_state):\n",
        "        self.state = current_state\n",
        "        self.frame_count += 1\n",
        "        # Use epsilon-greedy for exploration\n",
        "        action = 0\n",
        "        if self.epsilon > np.random.rand(1)[0] or self.state is None:\n",
        "            # Take random action\n",
        "            action = np.random.choice(self.num_actions)\n",
        "            self.q_action_taken.append(0)\n",
        "            self.random_actions_taken.append(1)\n",
        "        else:\n",
        "            # Predict action Q-values\n",
        "            # From environment state\n",
        "            state_tensor = keras.ops.convert_to_tensor(self.state)\n",
        "            state_tensor = keras.ops.expand_dims(state_tensor, 0)\n",
        "            action_probs = self.model(state_tensor, training=False)\n",
        "            # Take best action\n",
        "            action = keras.ops.argmax(action_probs[0]).numpy()\n",
        "            self.q_action_taken.append(1)\n",
        "            self.random_actions_taken.append(0)\n",
        "\n",
        "        # Decay probability of taking random action\n",
        "        self.epsilon -= self.epsilon_interval / self.epsilon_greedy_frames\n",
        "        self.epsilon = max(self.epsilon, self.epsilon_min)\n",
        "\n",
        "        # Apply the sampled action in our environment\n",
        "        state_next, reward, done, info, info2 = env.step(self.actions_space[action])\n",
        "\n",
        "        if done == True:\n",
        "            self.done_count += 1\n",
        "\n",
        "        # Save actions and states in replay buffer\n",
        "        if self.state is not None:\n",
        "          self.action_history.append(action)\n",
        "          self.state_history.append(self.state)\n",
        "          self.state_next_history.append(state_next)\n",
        "          self.done_history.append(done)\n",
        "          self.rewards_history.append(reward)\n",
        "\n",
        "        self.state = state_next\n",
        "\n",
        "        # Update at every 10 games\n",
        "        if self.done_count == 10:\n",
        "\n",
        "            # Using list comprehension to sample from replay buffer\n",
        "            state_sample = self.state_history\n",
        "            state_next_sample = self.state_next_history\n",
        "            rewards_sample = self.rewards_history\n",
        "            action_sample = self.action_history\n",
        "\n",
        "            # Build the updated Q-values for the sampled future states\n",
        "            # Use the target model for stability\n",
        "            state_tensor = keras.ops.convert_to_tensor(state_next_sample)\n",
        "            future_rewards = self.model_target.predict(state_tensor)\n",
        "            keras_sample = keras.ops.amax(\n",
        "              future_rewards, axis=1\n",
        "            )\n",
        "            # Q value = reward + discount factor * expected future reward\n",
        "            updated_q_values = rewards_sample + self.gamma * keras.ops.amax(\n",
        "              future_rewards, axis=1\n",
        "            )\n",
        "\n",
        "            # If final frame set the last value to -1\n",
        "            # updated_q_values = updated_q_values * (1 - done_sample) - done_sample\n",
        "\n",
        "            # Create a mask so we only calculate loss on the updated Q-values\n",
        "            masks = keras.ops.one_hot(action_sample, self.num_actions)\n",
        "\n",
        "            with tf.GradientTape() as tape:\n",
        "              # Train the model on the states and updated Q-values\n",
        "              state_tensor = keras.ops.convert_to_tensor(state_sample)\n",
        "              q_values = self.model(state_tensor)\n",
        "\n",
        "              # Apply the masks to the Q-values to get the Q-value for action taken\n",
        "              q_action = keras.ops.sum(keras.ops.multiply(q_values, masks), axis=1)\n",
        "              # Calculate loss between new Q-value and old Q-value\n",
        "              loss = self.loss_function(updated_q_values, q_action)\n",
        "\n",
        "            # Backpropagation\n",
        "            grads = tape.gradient(loss, self.model.trainable_variables)\n",
        "            self.optimizer.apply_gradients(zip(grads, self.model.trainable_variables))\n",
        "\n",
        "            # update the the target network with new weights\n",
        "            self.model_target.set_weights(self.model.get_weights())\n",
        "            # Log details\n",
        "            self.running_reward = np.mean(self.rewards_history)\n",
        "            template = \"running reward: {:.2f} at frame count {}\"\n",
        "            print(template.format(self.running_reward, self.frame_count))\n",
        "\n",
        "            # Experience replay buffers\n",
        "            self.action_history = []\n",
        "            self.state_history = []\n",
        "            self.state_next_history = []\n",
        "            self.rewards_history = []\n",
        "            self.done_history = []\n",
        "            self.episode_reward_history = []\n",
        "            self.done_count = 0\n",
        "\n",
        "        return state_next, reward, done, info, info2\n",
        "\n",
        "    def _create_q_model(self):\n",
        "        # Network defined by the Deepmind paper\n",
        "        return keras.Sequential(\n",
        "            [\n",
        "                layers.InputLayer(input_shape = (4, 84, 84)),\n",
        "                layers.Flatten(),\n",
        "                layers.Dense(units = 300, activation = 'relu'),\n",
        "                layers.Dense(100, activation=\"relu\"),\n",
        "                layers.Dense(self.num_actions, activation=\"linear\"),\n",
        "            ]\n",
        "        )\n"
      ]
    },
    {
      "cell_type": "code",
      "execution_count": null,
      "id": "8c76b21c",
      "metadata": {
        "colab": {
          "base_uri": "https://localhost:8080/"
        },
        "id": "8c76b21c",
        "outputId": "604b20a5-950e-4444-ba0f-e04501255966"
      },
      "outputs": [
        {
          "output_type": "stream",
          "name": "stdout",
          "text": [
            "Epochs: 100\n",
            "Agent Wins: 0\n",
            "CPU Wins: 100\n",
            "Agent Total Score: 88.0\n",
            "CPU Total Score: 2100.0\n"
          ]
        }
      ],
      "source": [
        "%time\n",
        "\n",
        "lenet_agent = LeNetAgent(env)\n",
        "game_play.total_epochs = 100\n",
        "game_play.episode_batch_size = 10\n",
        "lenet_score, _ = game_play.game_play(lenet_agent)"
      ]
    },
    {
      "cell_type": "code",
      "execution_count": null,
      "id": "6oKxFtaWMC9Y",
      "metadata": {
        "id": "6oKxFtaWMC9Y",
        "colab": {
          "base_uri": "https://localhost:8080/",
          "height": 430
        },
        "outputId": "b5b0714a-21df-4c76-fede-8c04fecdc682"
      },
      "outputs": [
        {
          "output_type": "display_data",
          "data": {
            "text/plain": [
              "<Figure size 640x480 with 1 Axes>"
            ],
            "image/png": "[encoded data removed]"
          },
          "metadata": {}
        }
      ],
      "source": [
        "random_actions_avg, lenet_actions_avg = [], []\n",
        "totals = 0\n",
        "count = 0\n",
        "for idx, score in enumerate(random_score):\n",
        "    count += 1\n",
        "    totals += score\n",
        "avg_random = totals / count\n",
        "decision_rounds = []\n",
        "for idx, score in enumerate(lenet_score):\n",
        "    count += 1\n",
        "    decision_rounds.append(count)\n",
        "    totals += score\n",
        "    avg = totals / count\n",
        "    lenet_actions_avg.append(avg)\n",
        "    random_actions_avg.append(avg_random)\n",
        "plt.plot(decision_rounds, random_actions_avg, label = \"Random Agent Score Average\")\n",
        "plt.plot(decision_rounds, lenet_actions_avg, label = \"LeNet Agent Score Average\")\n",
        "plt.legend()\n",
        "plt.show()"
      ]
    },
    {
      "cell_type": "code",
      "execution_count": null,
      "id": "286GSXKXu8e8",
      "metadata": {
        "id": "286GSXKXu8e8",
        "colab": {
          "base_uri": "https://localhost:8080/",
          "height": 430
        },
        "outputId": "3e0c6b54-1a66-4e06-8dc0-ede623f2ce18"
      },
      "outputs": [
        {
          "output_type": "display_data",
          "data": {
            "text/plain": [
              "<Figure size 640x480 with 1 Axes>"
            ],
            "image/png": "[encoded data removed]"
          },
          "metadata": {}
        }
      ],
      "source": [
        "random_actions_totals, lenet_actions_totals = [], []\n",
        "totals = 0\n",
        "decision_rounds = []\n",
        "count = 0\n",
        "for idx, score in enumerate(lenet_agent.random_actions_taken):\n",
        "    count += 1\n",
        "    decision_rounds.append(count)\n",
        "    totals += score\n",
        "    random_actions_totals.append(totals / count * 100)\n",
        "totals = 0\n",
        "count = 0\n",
        "for idx, score in enumerate(lenet_agent.q_action_taken):\n",
        "    count += 1\n",
        "    totals += score\n",
        "    lenet_actions_totals.append(totals / count * 100)\n",
        "plt.plot(decision_rounds, random_actions_totals, label = \"Random Actions\")\n",
        "plt.plot(decision_rounds, lenet_actions_totals, label = \"Q Actions\")\n",
        "legend_interval = round(len(decision_rounds) / 7)\n",
        "total_lines = len(decision_rounds)\n",
        "index = 0\n",
        "for a,b in zip(decision_rounds, lenet_actions_totals):\n",
        "    if index % legend_interval == 0 and index > 0:\n",
        "      plt.text(a, b, f\"{b:.2f}%\")\n",
        "    if index == total_lines - 1:\n",
        "        plt.text(a, b, f\"{b:.2f}%\")\n",
        "    index += 1\n",
        "index = 0\n",
        "for a,b in zip(decision_rounds, random_actions_totals):\n",
        "    if index % legend_interval == 0 and index > 0:\n",
        "      plt.text(a, b, f\"{b:.2f}%\")\n",
        "    if index == total_lines - 1:\n",
        "        plt.text(a, b, f\"{b:.2f}%\")\n",
        "    index += 1\n",
        "plt.legend()\n",
        "plt.show()"
      ]
    },
    {
      "cell_type": "code",
      "execution_count": null,
      "id": "Q7FS6YbAvChR",
      "metadata": {
        "id": "Q7FS6YbAvChR"
      },
      "outputs": [],
      "source": [
        "# Create a folder in the root directory\n",
        "!mkdir -p \"/content/drive/My Drive/Reinforcement Learning\"\n",
        "\n",
        "# Write a Random Agent scores to file\n",
        "with open('/content/drive/My Drive/Reinforcement Learning/Random Agent Results v2.csv', 'w') as f:\n",
        "  f.write('Game,Score\\n')\n",
        "  for idx, score in enumerate(random_score):\n",
        "      count += 1\n",
        "      f.write(f'{idx},{score}\\n')\n",
        "\n",
        "# Write a LeNet Agent scores to file\n",
        "with open('/content/drive/My Drive/Reinforcement Learning/LeNet Agent Results v2.csv', 'w') as f:\n",
        "  f.write('Game,Score\\n')\n",
        "  for idx, score in enumerate(lenet_score):\n",
        "      count += 1\n",
        "      f.write(f'{idx},{score}\\n')\n",
        "\n",
        "# Write a Random Agent actions history\n",
        "with open('/content/drive/My Drive/Reinforcement Learning/Random Agent Actions History v2.csv', 'w') as f:\n",
        "  f.write('Round,Action\\n')\n",
        "  for idx, score in enumerate(random_actions_totals):\n",
        "      count += 1\n",
        "      f.write(f'{idx};{score}\\n')\n",
        "\n",
        "# Write a LeNet Agent actions history\n",
        "with open('/content/drive/My Drive/Reinforcement Learning/LeNet Agent History v2.csv', 'w') as f:\n",
        "  f.write('Round,Action\\n')\n",
        "  for idx, score in enumerate(lenet_actions_totals):\n",
        "      count += 1\n",
        "      f.write(f'{idx};{score}\\n')"
      ]
    },
    {
      "cell_type": "code",
      "execution_count": null,
      "id": "yv4i5qhsx8Xb",
      "metadata": {
        "id": "yv4i5qhsx8Xb",
        "colab": {
          "base_uri": "https://localhost:8080/"
        },
        "outputId": "48603753-4309-420f-fd72-17915ca14bc4"
      },
      "outputs": [
        {
          "output_type": "execute_result",
          "data": {
            "text/plain": [
              "['/content/drive/My Drive/Reinforcement Learning/Game Play v2.txt']"
            ]
          },
          "metadata": {},
          "execution_count": 16
        }
      ],
      "source": [
        "import joblib\n",
        "\n",
        "joblib.dump(lenet_agent, '/content/drive/My Drive/Reinforcement Learning/LeNet Agent v2.txt')\n",
        "joblib.dump(random_agent, '/content/drive/My Drive/Reinforcement Learning/Randomd Agent v2.txt')\n",
        "joblib.dump(game_play, '/content/drive/My Drive/Reinforcement Learning/Game Play v2.txt')\n"
      ]
    },
    {
      "cell_type": "code",
      "execution_count": null,
      "id": "8zMaDwneg7ky",
      "metadata": {
        "id": "8zMaDwneg7ky",
        "colab": {
          "base_uri": "https://localhost:8080/",
          "height": 430
        },
        "outputId": "b23c25a7-25c4-4977-bfd8-10ae3abbe116"
      },
      "outputs": [
        {
          "output_type": "display_data",
          "data": {
            "text/plain": [
              "<Figure size 640x480 with 1 Axes>"
            ],
            "image/png": "[encoded data removed]"
          },
          "metadata": {}
        }
      ],
      "source": [
        "random_actions_avg, lenet_actions_avg = [], []\n",
        "totals = 0\n",
        "count = 0\n",
        "for idx, score in enumerate(random_score):\n",
        "    count += 1\n",
        "    totals += score\n",
        "avg_random = totals / count\n",
        "decision_rounds = []\n",
        "for idx, score in enumerate(lenet_score):\n",
        "    count += 1\n",
        "    decision_rounds.append(count)\n",
        "    totals += score\n",
        "    avg = totals / count\n",
        "    lenet_actions_avg.append(avg)\n",
        "    random_actions_avg.append(avg_random)\n",
        "plt.plot(decision_rounds, random_actions_avg, label = \"Random Agent Score Average\")\n",
        "plt.plot(decision_rounds, lenet_actions_avg, label = \"LeNet Agent Score Average\")\n",
        "plt.legend()\n",
        "plt.show()"
      ]
    }
  ],
  "metadata": {
    "accelerator": "GPU",
    "colab": {
      "gpuType": "T4",
      "machine_shape": "hm",
      "provenance": [],
      "include_colab_link": true
    },
    "kernelspec": {
      "display_name": "Python 3",
      "name": "python3"
    },
    "language_info": {
      "codemirror_mode": {
        "name": "ipython",
        "version": 3
      },
      "file_extension": ".py",
      "mimetype": "text/x-python",
      "name": "python",
      "nbconvert_exporter": "python",
      "pygments_lexer": "ipython3",
      "version": "3.10.12"
    }
  },
  "nbformat": 4,
  "nbformat_minor": 5
}